{
  "nbformat": 4,
  "nbformat_minor": 0,
  "metadata": {
    "colab": {
      "provenance": []
    },
    "kernelspec": {
      "name": "python3",
      "display_name": "Python 3"
    },
    "language_info": {
      "name": "python"
    }
  },
  "cells": [
    {
      "cell_type": "code",
      "source": [
        "# Import the openai library to access the OpenAI API.\n",
        "import openai\n",
        "\n",
        "# Set your OpenAI API key. Replace 'YOUR_API_KEY' with your actual API key.\n",
        "OPENAI_API_KEY = 'YOUR_API_KEY'\n",
        "\n",
        "# Set up the OpenAI API credentials using your API key.\n",
        "openai.api_key = OPENAI_API_KEY\n",
        "\n",
        "# Define a function to translate English text to Hinglish using the OpenAI API.\n",
        "def english_to_hinglish(english_text):\n",
        "    try:\n",
        "        # Use the OpenAI API to generate a Hinglish translation for the provided English text.\n",
        "        response = openai.Completion.create(\n",
        "            model=\"text-davinci-003\",\n",
        "            prompt=f\"\"\"Translate the following sentence into Hinglish, keeping certain words in English for clarity: {english_text} \"\"\",\n",
        "            max_tokens=256,\n",
        "            top_p=1,\n",
        "            temperature=1,\n",
        "            presence_penalty=0,\n",
        "            frequency_penalty=0\n",
        "\n",
        "        )\n",
        "        # Return the generated Hinglish translation as a string after removing leading/trailing whitespace.\n",
        "        return response.choices[0].text.strip()\n",
        "    except Exception as e:\n",
        "        # Handle any potential errors or exceptions that may occur during the API request.\n",
        "        print(f\"Error: {str(e)}\")\n",
        "        return None\n"
      ],
      "metadata": {
        "id": "8VWpn9-jZ_aJ"
      },
      "execution_count": 10,
      "outputs": []
    },
    {
      "cell_type": "code",
      "source": [
        "\n",
        "english_sentences=\"\"\" Definitely share your feedback in the comment section.\"\"\"\n",
        "\n",
        "hinglish_output=english_to_hinglish(english_sentences)\n",
        "print(hinglish_output)\n",
        "\n"
      ],
      "metadata": {
        "colab": {
          "base_uri": "https://localhost:8080/"
        },
        "id": "djFVidUIXuih",
        "outputId": "bca1eea7-22a8-4981-f2a9-af0a90ac115d"
      },
      "execution_count": 8,
      "outputs": [
        {
          "output_type": "stream",
          "name": "stdout",
          "text": [
            "Definitely Apne Feedback Share Karein Comment Section mein.\n"
          ]
        }
      ]
    },
    {
      "cell_type": "code",
      "source": [
        "english_sentences=\"\"\" So even if it's a big video, I will clearly mention all the products\"\"\"\n",
        "\n",
        "hinglish_output=english_to_hinglish(english_sentences)\n",
        "print(hinglish_output)"
      ],
      "metadata": {
        "colab": {
          "base_uri": "https://localhost:8080/"
        },
        "outputId": "6c5e0241-77f1-4f6b-9bd1-22a2b1e0faf0",
        "id": "vSJjddZoEsAy"
      },
      "execution_count": 7,
      "outputs": [
        {
          "output_type": "stream",
          "name": "stdout",
          "text": [
            "\"To bhi agar woh bahut badi video hai, toh main saare products ko clearly mention karunga.\"\n"
          ]
        }
      ]
    },
    {
      "cell_type": "code",
      "source": [
        "english_sentences=\"\"\" I was waiting for my bag.\"\"\"\n",
        "\n",
        "hinglish_output = english_to_hinglish(english_sentences)\n",
        "print(hinglish_output)"
      ],
      "metadata": {
        "colab": {
          "base_uri": "https://localhost:8080/"
        },
        "id": "yZ91ox0hm5gQ",
        "outputId": "2653f1cd-5d5f-444e-b9d8-e25ecdb80077"
      },
      "execution_count": 11,
      "outputs": [
        {
          "output_type": "stream",
          "name": "stdout",
          "text": [
            "Main apni bag ki intezaar kar raha tha.\n"
          ]
        }
      ]
    },
    {
      "cell_type": "markdown",
      "source": [
        "==========================================XXXXXXXXXXXXXXX============================================"
      ],
      "metadata": {
        "id": "Cuwduh20EumQ"
      }
    },
    {
      "cell_type": "code",
      "source": [],
      "metadata": {
        "id": "7Bdw_vJBkiTs"
      },
      "execution_count": null,
      "outputs": []
    }
  ]
}
